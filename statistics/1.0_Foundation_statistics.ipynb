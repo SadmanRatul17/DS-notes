{
 "cells": [
  {
   "cell_type": "markdown",
   "id": "1081d220-1a24-440e-98af-2376ed3bd990",
   "metadata": {},
   "source": [
    "<h2>Q. What is statistics?</h2>"
   ]
  },
  {
   "cell_type": "markdown",
   "id": "789d5dc2-2d2b-4489-810c-d468ba35b45c",
   "metadata": {},
   "source": [
    "<p>- Statistics is a set of mathematical methods and tools that enable us to answer important questions about data. </p>"
   ]
  },
  {
   "cell_type": "markdown",
   "id": "f6ced9e0-5342-4094-aa19-c48a973ddf6f",
   "metadata": {},
   "source": [
    "<br>"
   ]
  },
  {
   "cell_type": "markdown",
   "id": "67869c5c-3032-495d-9e58-be93cb06b229",
   "metadata": {},
   "source": [
    "![](sta_type.png)"
   ]
  },
  {
   "cell_type": "markdown",
   "id": "bed8ae19-8c43-4643-9513-e99daed3cd01",
   "metadata": {},
   "source": [
    "<h4>Descriptive statistics : To summarize data by transforming raw observations into meaningful infromation that is easy to interpret and share</h4>"
   ]
  },
  {
   "cell_type": "markdown",
   "id": "888ee693-acfa-4221-bda7-9a45545ff90e",
   "metadata": {},
   "source": [
    "<br>"
   ]
  },
  {
   "cell_type": "markdown",
   "id": "ffc8fd3c-03d3-4680-9d51-1e764be1e7d2",
   "metadata": {},
   "source": [
    "<h4>Inferential statistics: To study experiments done on small samples of chalk out the inferences to the entire population.(entire domain) </h4>"
   ]
  },
  {
   "cell_type": "markdown",
   "id": "bbce885f-4dec-4293-942d-8ecc09403f7f",
   "metadata": {},
   "source": [
    "<br>"
   ]
  },
  {
   "cell_type": "markdown",
   "id": "dc5583bc-d244-467c-a386-9f51185703a4",
   "metadata": {},
   "source": [
    "<h4>Descriptive:</h4>\n",
    "<ul>\n",
    "    <li> Measure of Central Tendency (Mean, Median, Mode)</li>\n",
    "    <li> Measures of Variability (Range, Mean Absolute Deviation, Variance, Standard Deviation)</li>\n",
    "    <li> Measures of Shape (Skewness)</li>\n",
    "    <li> Percentiles</li>\n",
    "    <li> Frequency Distribution</li>\n",
    "    <li> Covariance and Correlation</li>\n",
    "    \n",
    "</ul>"
   ]
  },
  {
   "cell_type": "markdown",
   "id": "f7861ab3-6c92-4eab-b520-013f28beb6a3",
   "metadata": {},
   "source": [
    "<br>"
   ]
  },
  {
   "cell_type": "markdown",
   "id": "714087a8-c90c-4a95-9ae2-36078505bd7d",
   "metadata": {},
   "source": [
    "<h4>Inferential:</h4>\n",
    "<ul>\n",
    "    <li> Center Limit Theorem</li>\n",
    "    <li> Hypothesis Testing</li>\n",
    "    <ul>\n",
    "        <li> Z - Test </li>\n",
    "        <li> T - Test</li>\n",
    "        <li> Chi Square Test </li>\n",
    "    </ul>\n",
    "    \n",
    "    \n",
    "</ul>"
   ]
  }
 ],
 "metadata": {
  "kernelspec": {
   "display_name": "Python 3 (ipykernel)",
   "language": "python",
   "name": "python3"
  },
  "language_info": {
   "codemirror_mode": {
    "name": "ipython",
    "version": 3
   },
   "file_extension": ".py",
   "mimetype": "text/x-python",
   "name": "python",
   "nbconvert_exporter": "python",
   "pygments_lexer": "ipython3",
   "version": "3.11.3"
  }
 },
 "nbformat": 4,
 "nbformat_minor": 5
}
